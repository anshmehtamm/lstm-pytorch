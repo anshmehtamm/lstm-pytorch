{
 "cells": [
  {
   "cell_type": "markdown",
   "id": "2fa8f6af-63ef-4780-9156-cc56134b4b00",
   "metadata": {},
   "source": [
    "# News Category Classification using RNN"
   ]
  },
  {
   "cell_type": "markdown",
   "id": "1b0a0732-32ca-43c1-a3c2-7eadab9ce737",
   "metadata": {},
   "source": [
    "##### Loading the dataset\n"
   ]
  },
  {
   "cell_type": "code",
   "execution_count": 2,
   "id": "35c3f0e4-f173-4bd8-8bf4-731e4c52c8f0",
   "metadata": {},
   "outputs": [],
   "source": [
    "import json\n",
    "import numpy as np\n",
    "\n",
    "with open('datasets/News_Category_Dataset_v3.json', 'r') as file:\n",
    "    data = [json.loads(line) for line in file]"
   ]
  },
  {
   "cell_type": "code",
   "execution_count": 3,
   "id": "e61e8984-f763-4509-b58a-a7a8d81c2cbb",
   "metadata": {},
   "outputs": [
    {
     "name": "stdout",
     "output_type": "stream",
     "text": [
      "{\n",
      "    \"link\": \"https://www.huffpost.com/entry/covid-boosters-uptake-us_n_632d719ee4b087fae6feaac9\",\n",
      "    \"headline\": \"Over 4 Million Americans Roll Up Sleeves For Omicron-Targeted COVID Boosters\",\n",
      "    \"category\": \"U.S. NEWS\",\n",
      "    \"short_description\": \"Health experts said it is too early to predict whether demand would match up with the 171 million doses of the new boosters the U.S. ordered for the fall.\",\n",
      "    \"authors\": \"Carla K. Johnson, AP\",\n",
      "    \"date\": \"2022-09-23\"\n",
      "}\n",
      "{\n",
      "    \"link\": \"https://www.huffpost.com/entry/american-airlines-passenger-banned-flight-attendant-punch-justice-department_n_632e25d3e4b0e247890329fe\",\n",
      "    \"headline\": \"American Airlines Flyer Charged, Banned For Life After Punching Flight Attendant On Video\",\n",
      "    \"category\": \"U.S. NEWS\",\n",
      "    \"short_description\": \"He was subdued by passengers and crew when he fled to the back of the aircraft after the confrontation, according to the U.S. attorney's office in Los Angeles.\",\n",
      "    \"authors\": \"Mary Papenfuss\",\n",
      "    \"date\": \"2022-09-23\"\n",
      "}\n",
      "{\n",
      "    \"link\": \"https://www.huffpost.com/entry/funniest-tweets-cats-dogs-september-17-23_n_632de332e4b0695c1d81dc02\",\n",
      "    \"headline\": \"23 Of The Funniest Tweets About Cats And Dogs This Week (Sept. 17-23)\",\n",
      "    \"category\": \"COMEDY\",\n",
      "    \"short_description\": \"\\\"Until you have a dog you don't understand what could be eaten.\\\"\",\n",
      "    \"authors\": \"Elyse Wanshel\",\n",
      "    \"date\": \"2022-09-23\"\n",
      "}\n",
      "{\n",
      "    \"link\": \"https://www.huffpost.com/entry/funniest-parenting-tweets_l_632d7d15e4b0d12b5403e479\",\n",
      "    \"headline\": \"The Funniest Tweets From Parents This Week (Sept. 17-23)\",\n",
      "    \"category\": \"PARENTING\",\n",
      "    \"short_description\": \"\\\"Accidentally put grown-up toothpaste on my toddler\\u2019s toothbrush and he screamed like I was cleaning his teeth with a Carolina Reaper dipped in Tabasco sauce.\\\"\",\n",
      "    \"authors\": \"Caroline Bologna\",\n",
      "    \"date\": \"2022-09-23\"\n",
      "}\n",
      "{\n",
      "    \"link\": \"https://www.huffpost.com/entry/amy-cooper-loses-discrimination-lawsuit-franklin-templeton_n_632c6463e4b09d8701bd227e\",\n",
      "    \"headline\": \"Woman Who Called Cops On Black Bird-Watcher Loses Lawsuit Against Ex-Employer\",\n",
      "    \"category\": \"U.S. NEWS\",\n",
      "    \"short_description\": \"Amy Cooper accused investment firm Franklin Templeton of unfairly firing her and branding her a racist after video of the Central Park encounter went viral.\",\n",
      "    \"authors\": \"Nina Golgowski\",\n",
      "    \"date\": \"2022-09-22\"\n",
      "}\n"
     ]
    }
   ],
   "source": [
    "# view the first 5 records, in new line, format json\n",
    "for i in range(5):\n",
    "    print(json.dumps(data[i], indent=4))"
   ]
  },
  {
   "cell_type": "markdown",
   "id": "e3a14427",
   "metadata": {},
   "source": [
    "##### Analysing the dataset"
   ]
  },
  {
   "cell_type": "code",
   "execution_count": 4,
   "id": "e69298d4",
   "metadata": {},
   "outputs": [
    {
     "name": "stdout",
     "output_type": "stream",
     "text": [
      "{'GOOD NEWS', 'MEDIA', 'SPORTS', 'GREEN', 'TASTE', 'FIFTY', 'STYLE & BEAUTY', 'U.S. NEWS', 'QUEER VOICES', 'WOMEN', 'HOME & LIVING', 'BLACK VOICES', 'POLITICS', 'ENVIRONMENT', 'COMEDY', 'WEIRD NEWS', 'ARTS & CULTURE', 'LATINO VOICES', 'IMPACT', 'TRAVEL', 'RELIGION', 'DIVORCE', 'STYLE', 'HEALTHY LIVING', 'CRIME', 'TECH', 'PARENTS', 'PARENTING', 'WELLNESS', 'SCIENCE', 'THE WORLDPOST', 'CULTURE & ARTS', 'WORLD NEWS', 'WEDDINGS', 'WORLDPOST', 'BUSINESS', 'ENTERTAINMENT', 'EDUCATION', 'FOOD & DRINK', 'MONEY', 'ARTS', 'COLLEGE'}\n",
      "Number of categories:  42\n",
      "[('POLITICS', 35602), ('WELLNESS', 17945), ('ENTERTAINMENT', 17362), ('TRAVEL', 9900), ('STYLE & BEAUTY', 9814)]\n"
     ]
    },
    {
     "data": {
      "image/png": "[encoded data removed]",
      "text/plain": [
       "<Figure size 640x480 with 1 Axes>"
      ]
     },
     "metadata": {},
     "output_type": "display_data"
    }
   ],
   "source": [
    "# view all the categories\n",
    "categories = set()\n",
    "for record in data:\n",
    "    categories.add(record['category'])\n",
    "print(categories)\n",
    "print(\"Number of categories: \", len(categories))\n",
    "\n",
    "# this is to be predicted\n",
    "\n",
    "# check the distribution of the categories, plot a histogram\n",
    "from collections import Counter\n",
    "import matplotlib.pyplot as plt\n",
    "\n",
    "category_count = Counter([record['category'] for record in data])\n",
    "\n",
    "plt.bar(category_count.keys(), category_count.values())\n",
    "# top 5 categories\n",
    "print(category_count.most_common(5))"
   ]
  },
  {
   "cell_type": "code",
   "execution_count": 5,
   "id": "e791ec86",
   "metadata": {},
   "outputs": [
    {
     "name": "stdout",
     "output_type": "stream",
     "text": [
      "Over 4 Million Americans Roll Up Sleeves For Omicron-Targeted COVID Boosters U.S. NEWS\n",
      "American Airlines Flyer Charged, Banned For Life After Punching Flight Attendant On Video U.S. NEWS\n",
      "23 Of The Funniest Tweets About Cats And Dogs This Week (Sept. 17-23) COMEDY\n",
      "The Funniest Tweets From Parents This Week (Sept. 17-23) PARENTING\n",
      "Woman Who Called Cops On Black Bird-Watcher Loses Lawsuit Against Ex-Employer U.S. NEWS\n"
     ]
    }
   ],
   "source": [
    "# headline vs category\n",
    "headlines = [record['headline'] for record in data]\n",
    "categories = [record['category'] for record in data]\n",
    "# print the first 5 headlines and categories\n",
    "for i in range(5):\n",
    "    print(headlines[i], categories[i])"
   ]
  },
  {
   "cell_type": "code",
   "execution_count": 6,
   "id": "72062643",
   "metadata": {},
   "outputs": [
    {
     "name": "stdout",
     "output_type": "stream",
     "text": [
      "Number of unique words:  66849\n",
      "Number of unique words of length 1:  26\n",
      "Number of unique words after removing unique words of length 1:  66823\n",
      "Number of unique words after removing stopwords:  46798\n",
      "Number of records after removing words not in unique words:  209527\n",
      "Number of records after removing records with words < 3:  151776\n"
     ]
    }
   ],
   "source": [
    "# random seed\n",
    "import random\n",
    "import re\n",
    "\n",
    "random.seed(232)\n",
    "random.shuffle(data)\n",
    "\n",
    "# prepare the data\n",
    "data_truncated = [[record['headline'], record['category']] for record in data]\n",
    "# preprocess the data\n",
    "\n",
    "'''\n",
    "    - lowercase\n",
    "    - remove the special characters from each word\n",
    "    - remove only numbers\n",
    "    - remove only special characters\n",
    "    - remove empty strinngs\n",
    "'''\n",
    "for record in data_truncated:\n",
    "    headline = record[0]\n",
    "    cleaned_headline = re.sub(r'[^a-z\\s]+', '', headline.lower())\n",
    "    record[0] = cleaned_headline\n",
    "\n",
    "\n",
    "# unique words\n",
    "unique_words = set([word for record in data_truncated for word in record[0].split()])\n",
    "print(\"Number of unique words: \", len(unique_words))\n",
    "# unique words of length 1\n",
    "unique_words_length_1 = set([word for word in unique_words if len(word) == 1])\n",
    "print(\"Number of unique words of length 1: \", len(unique_words_length_1))\n",
    "# remove the unique words of length 1\n",
    "unique_words = unique_words - unique_words_length_1\n",
    "print(\"Number of unique words after removing unique words of length 1: \", len(unique_words))\n",
    "# stemming\n",
    "\n",
    "from nltk.stem import PorterStemmer\n",
    "import nltk\n",
    "stemmer = PorterStemmer()\n",
    "unique_words = set([stemmer.stem(word) for word in unique_words])\n",
    "# remove stopwords\n",
    "from nltk.corpus import stopwords\n",
    "\n",
    "stop_words = set(stopwords.words('english'))\n",
    "#unique_words = unique_words - stop_words\n",
    "print(\"Number of unique words after removing stopwords: \", len(unique_words))\n",
    "\n",
    "# for each record if the word is in the unique words, then keep it\n",
    "data_truncated = [([word for word in record[0].split() if word in unique_words], record[1]) for record in data_truncated]\n",
    "print(\"Number of records after removing words not in unique words: \", len(data_truncated))\n",
    "# from data_truncated, remove if records have words < 3\n",
    "data_truncated = [record for record in data_truncated if len(record[0]) >=5 and len(record[0]) <= 15]\n",
    "print(\"Number of records after removing records with words < 3: \", len(data_truncated))\n",
    "# form unique words\n",
    "unique_words = set([word for record in data_truncated for word in record[0]])\n",
    "unique_words.add('')"
   ]
  },
  {
   "cell_type": "code",
   "execution_count": 7,
   "id": "fe8eb296",
   "metadata": {},
   "outputs": [],
   "source": [
    "# index the words and categories. Embedding layer requires the input to be in the form of integers\n",
    "\n",
    "vocab_size = len(unique_words)\n",
    "categories = len(set(record[1] for record in data_truncated))\n",
    "\n",
    "category_to_index = {category: i for i, category in enumerate(set(record[1] for record in data_truncated))}\n",
    "word_to_index = {word: i for i, word in enumerate(unique_words)}\n",
    "index_to_word = {i: word for i, word in enumerate(unique_words)}\n",
    "\n",
    "data_truncated = [[record[0], category_to_index[record[1]]] for record in data_truncated]\n",
    "\n",
    "MAX_LENGTH = max(len(record[0]) for record in data_truncated)\n",
    "for record in data_truncated:\n",
    "    record[0] += [''] * (MAX_LENGTH - len(record[0]))\n",
    "    record[0] = [word_to_index[word] for word in record[0]]\n"
   ]
  },
  {
   "cell_type": "code",
   "execution_count": 8,
   "id": "a813fa8c",
   "metadata": {},
   "outputs": [
    {
     "name": "stdout",
     "output_type": "stream",
     "text": [
      "training data:  121420\n",
      "testing data:  30356\n"
     ]
    }
   ],
   "source": [
    "# split the data into training and testing\n",
    "split_ratio = 0.8\n",
    "split_index = int(len(data_truncated) * split_ratio)\n",
    "\n",
    "train_data = data_truncated[:split_index]\n",
    "test_data = data_truncated[split_index:]\n",
    "\n",
    "print(\"training data: \", len(train_data))\n",
    "print(\"testing data: \", len(test_data))"
   ]
  },
  {
   "cell_type": "code",
   "execution_count": 9,
   "id": "bbb6a9c7",
   "metadata": {},
   "outputs": [],
   "source": [
    "\n",
    "import torch\n",
    "\n",
    "# INITIALIZE THE PARAMETERS\n",
    "EMBEDDING_DIM = 10\n",
    "embeddings = torch.randn(vocab_size, EMBEDDING_DIM)/np.sqrt(vocab_size)\n",
    "HIDDEN_LAYER_DIM = 50\n",
    "\n",
    "# rnn weights\n",
    "\n",
    "# TODO: kaiming initialization, currently using xavier initialization\n",
    "W = torch.randn(EMBEDDING_DIM, HIDDEN_LAYER_DIM)/np.sqrt(EMBEDDING_DIM)\n",
    "U = torch.randn(HIDDEN_LAYER_DIM, HIDDEN_LAYER_DIM)/np.sqrt(HIDDEN_LAYER_DIM)\n",
    "\n",
    "# feed forward network\n",
    "W1 = torch.randn(HIDDEN_LAYER_DIM, HIDDEN_LAYER_DIM)/np.sqrt(HIDDEN_LAYER_DIM)\n",
    "b1 = torch.randn(HIDDEN_LAYER_DIM)/np.sqrt(HIDDEN_LAYER_DIM)\n",
    "W2 = torch.randn(HIDDEN_LAYER_DIM, categories)/np.sqrt(HIDDEN_LAYER_DIM)\n",
    "b2 = torch.randn(categories)/np.sqrt(HIDDEN_LAYER_DIM)\n",
    "\n",
    "# set the requires_grad to True\n",
    "parameters = [W, U, W1, b1, W2, b2, embeddings]\n",
    "for parameter in parameters:\n",
    "    parameter.requires_grad = True\n",
    "\n"
   ]
  },
  {
   "cell_type": "code",
   "execution_count": 12,
   "id": "58aae1b3",
   "metadata": {},
   "outputs": [
    {
     "name": "stdout",
     "output_type": "stream",
     "text": [
      "tensor(2.4074, grad_fn=<NegBackward0>)\n"
     ]
    }
   ],
   "source": [
    "\n",
    "BATCH_SIZE = 30\n",
    "\n",
    "for _ in range(10000):\n",
    "    batch  = random.sample(train_data, BATCH_SIZE)\n",
    "    X = [record[0] for record in batch]\n",
    "    y = [record[1] for record in batch]\n",
    "    \n",
    "    h_t = torch.zeros(BATCH_SIZE, HIDDEN_LAYER_DIM)\n",
    "    h_t.requires_grad = True\n",
    "    for index in range(15):\n",
    "        x_i = [[record[index] for record in X]]\n",
    "        emb = embeddings[x_i]\n",
    "        h_t = torch.tanh(emb @ W + h_t @ U)\n",
    "    # layer1\n",
    "    h1 = torch.tanh(h_t @ W1 + b1)\n",
    "    # layer2\n",
    "    logits = h1 @ W2 + b2\n",
    "    # softmax    \n",
    "    # to add: numerical stability ? why? - to avoid overflow of the exponential function\n",
    "    logits_maxes = logits.max(1, keepdim=True).values  # keepdims=True, other wise squished to 1D, and not broadcasted\n",
    "    logits_norm = logits - logits_maxes\n",
    "    counts = logits_norm.exp()\n",
    "    #print(counts)\n",
    "    #print(counts.shape)\n",
    "    counts_sum_inv = counts.sum(1, keepdim=True)\n",
    "    #print(counts_sum_inv)\n",
    "    y_prob = counts * counts_sum_inv**-1\n",
    "    # loss (only for one record at a time, not for a batch)\n",
    "    logprobs = y_prob.log()\n",
    "    loss = -logprobs[range(BATCH_SIZE), y].mean()\n",
    "    # backpropagation\n",
    "    for parameter in parameters:\n",
    "        parameter.grad = None\n",
    "    \n",
    "    loss.backward()\n",
    "\n",
    "    # update the parameters\n",
    "    for parameter in parameters:\n",
    "        parameter.data -= 0.005 * parameter.grad\n",
    "\n",
    "print(loss)"
   ]
  },
  {
   "cell_type": "code",
   "execution_count": 13,
   "id": "d1fba002",
   "metadata": {},
   "outputs": [
    {
     "name": "stdout",
     "output_type": "stream",
     "text": [
      "Accuracy:  0.3754776650415074\n",
      "Number of test records:  30356\n",
      "Number of correct predictions:  11398\n"
     ]
    }
   ],
   "source": [
    "# test the model\n",
    "correct = 0\n",
    "total = 0\n",
    "for record in test_data:\n",
    "    X = record[0]\n",
    "    y = record[1]\n",
    "    h_t = torch.zeros(1, HIDDEN_LAYER_DIM)\n",
    "    for index in range(15):\n",
    "        x_i = X[index]\n",
    "        emb = embeddings[x_i]\n",
    "        h_t = torch.tanh(emb @ W + h_t @ U)\n",
    "    h1 = torch.tanh(h_t @ W1 + b1)\n",
    "    logits = h1 @ W2 + b2\n",
    "    y_pred = logits.argmax().item()\n",
    "    if y_pred == y:\n",
    "        correct += 1\n",
    "    total += 1\n",
    "print(\"Accuracy: \", correct/total)\n",
    "print(\"Number of test records: \", total)\n",
    "print(\"Number of correct predictions: \", correct)\n",
    "# save the model\n",
    "torch.save({\n",
    "    'W': W,\n",
    "    'U': U,\n",
    "    'W1': W1,\n",
    "    'b1': b1,\n",
    "    'W2': W2,\n",
    "    'b2': b2,\n",
    "    'embeddings': embeddings\n",
    "}, 'model.pth')\n"
   ]
  },
  {
   "cell_type": "markdown",
   "id": "6016aa1c",
   "metadata": {},
   "source": [
    "### Results\n",
    "\n",
    "- Basic RNN model, giving a baseline of 2.8 negative log likelihood. With accuracy of 37% on the test set.\n",
    "    - Xavier initialization\n",
    "    - Simple stochastic gradient descent\n",
    "    - Batch size of 30, and embedding size of 10\n",
    "    - Contains 15 time steps, and a two layer feedforward network for classification"
   ]
  },
  {
   "cell_type": "markdown",
   "id": "e7686ecb",
   "metadata": {},
   "source": [
    "### TODO\n",
    "\n",
    "- Investigate where the model is failing\n",
    "- Investigate the effect of the embedding size on the model performance\n",
    "- Investigate the effect of the number of time steps on the model performance\n",
    "- Different performance metrics\n",
    "\n",
    "\n",
    "### Ideas \n",
    "- Average the word embeddings for each time step, and then pass it through the feedforward network? \n",
    "- Deepeing the network? Why or why not?\n",
    "\n",
    "\n"
   ]
  },
  {
   "cell_type": "markdown",
   "id": "24152b8d",
   "metadata": {},
   "source": []
  }
 ],
 "metadata": {
  "kernelspec": {
   "display_name": "Python 3 (ipykernel)",
   "language": "python",
   "name": "python3"
  },
  "language_info": {
   "codemirror_mode": {
    "name": "ipython",
    "version": 3
   },
   "file_extension": ".py",
   "mimetype": "text/x-python",
   "name": "python",
   "nbconvert_exporter": "python",
   "pygments_lexer": "ipython3",
   "version": "3.8.18"
  }
 },
 "nbformat": 4,
 "nbformat_minor": 5
}
