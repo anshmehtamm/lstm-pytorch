{
 "cells": [
  {
   "cell_type": "markdown",
   "metadata": {},
   "source": [
    "#  Notes and problem encountered"
   ]
  },
  {
   "cell_type": "markdown",
   "metadata": {},
   "source": [
    "- Points to the direction of steepest ascent\n",
    "\n",
    "\n",
    "\n",
    "- Subdifferentials: functions that are continous but not differentiable at some points\n",
    "(step functions, absolute value functions, etc)\n",
    "\n",
    "\n",
    "- Difference Quotient: Simple way to approximate the derivative of a function, tangent line\n",
    "- Derivative of polynomial: $(x+h)^n$ - series expansion\n",
    "- Matrix Multiplication as transformation of space (rotation, scaling, etc)\n",
    "- Hebbian Theory: Neurons that fire together wire together\n",
    "- Derivative of a matrix, V =  - e^(matrix)* initial\n",
    "- Vanishing gradients problem\n",
    "- exploding gradients problem ---- \n",
    "\n",
    "\n",
    "\n",
    "\n",
    "- The activation function saturation, and the vanishing gradients problem. Weight initialization. "
   ]
  },
  {
   "cell_type": "markdown",
   "metadata": {},
   "source": []
  }
 ],
 "metadata": {
  "language_info": {
   "name": "python"
  },
  "orig_nbformat": 4
 },
 "nbformat": 4,
 "nbformat_minor": 2
}
